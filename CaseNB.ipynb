{
 "cells": [
  {
   "cell_type": "markdown",
   "metadata": {},
   "source": [
    "# Segmenteringsanalyse\n",
    "En case til jobsamtale \n",
    "Af Emilie Wedenborg\n",
    "\n",
    "Opgave: Hvad er de vigtigste parametre for at forudse om en bruger er konverteret eller ej?"
   ]
  },
  {
   "cell_type": "code",
   "execution_count": 1,
   "metadata": {},
   "outputs": [],
   "source": [
    "import pandas as pd\n",
    "import numpy as np\n",
    "import matplotlib.pyplot as plt\n",
    "import seaborn as sns\n",
    "from dataImportXlsx import dataImportXlsx\n",
    "\n",
    "from sklearn.utils import resample\n",
    "from sklearn.model_selection import StratifiedKFold, GridSearchCV\n",
    "from sklearn.preprocessing import StandardScaler\n",
    "from sklearn.metrics import accuracy_score\n",
    "#import seaborn as sns\n",
    "from sklearn.ensemble import RandomForestClassifier\n",
    "from sklearn.inspection import permutation_importance"
   ]
  },
  {
   "cell_type": "code",
   "execution_count": 2,
   "metadata": {},
   "outputs": [],
   "source": [
    "Gendercolors = [\"#CAE1FF\", \"#ffb4cc\"]"
   ]
  },
  {
   "cell_type": "markdown",
   "metadata": {},
   "source": [
    "### Import af data"
   ]
  },
  {
   "cell_type": "code",
   "execution_count": 3,
   "metadata": {},
   "outputs": [
    {
     "name": "stdout",
     "output_type": "stream",
     "text": [
      "The number of rows is: 714\n",
      "The number of cols is: 9\n"
     ]
    },
    {
     "data": {
      "text/html": [
       "<div>\n",
       "<style scoped>\n",
       "    .dataframe tbody tr th:only-of-type {\n",
       "        vertical-align: middle;\n",
       "    }\n",
       "\n",
       "    .dataframe tbody tr th {\n",
       "        vertical-align: top;\n",
       "    }\n",
       "\n",
       "    .dataframe thead th {\n",
       "        text-align: right;\n",
       "    }\n",
       "</style>\n",
       "<table border=\"1\" class=\"dataframe\">\n",
       "  <thead>\n",
       "    <tr style=\"text-align: right;\">\n",
       "      <th></th>\n",
       "      <th>converted</th>\n",
       "      <th>customer_segment</th>\n",
       "      <th>gender</th>\n",
       "      <th>age</th>\n",
       "      <th>related_customers</th>\n",
       "      <th>family_size</th>\n",
       "      <th>initial_fee_level</th>\n",
       "      <th>credit_account_id</th>\n",
       "      <th>branch</th>\n",
       "    </tr>\n",
       "    <tr>\n",
       "      <th>customer_id</th>\n",
       "      <th></th>\n",
       "      <th></th>\n",
       "      <th></th>\n",
       "      <th></th>\n",
       "      <th></th>\n",
       "      <th></th>\n",
       "      <th></th>\n",
       "      <th></th>\n",
       "      <th></th>\n",
       "    </tr>\n",
       "  </thead>\n",
       "  <tbody>\n",
       "    <tr>\n",
       "      <th>15001</th>\n",
       "      <td>0</td>\n",
       "      <td>13</td>\n",
       "      <td>male</td>\n",
       "      <td>22.0</td>\n",
       "      <td>1</td>\n",
       "      <td>0</td>\n",
       "      <td>14.5</td>\n",
       "      <td>9b2d5b4678781e53038e91ea5324530a03f27dc1d0e5f6...</td>\n",
       "      <td>Helsinki</td>\n",
       "    </tr>\n",
       "    <tr>\n",
       "      <th>15002</th>\n",
       "      <td>1</td>\n",
       "      <td>11</td>\n",
       "      <td>female</td>\n",
       "      <td>38.0</td>\n",
       "      <td>1</td>\n",
       "      <td>0</td>\n",
       "      <td>142.5666</td>\n",
       "      <td>afa2dc179e46e8456ffff9016f91396e9c6adf1fe20d17...</td>\n",
       "      <td>Tampere</td>\n",
       "    </tr>\n",
       "    <tr>\n",
       "      <th>15003</th>\n",
       "      <td>1</td>\n",
       "      <td>13</td>\n",
       "      <td>female</td>\n",
       "      <td>26.0</td>\n",
       "      <td>0</td>\n",
       "      <td>0</td>\n",
       "      <td>15.85</td>\n",
       "      <td>9b2d5b4678781e53038e91ea5324530a03f27dc1d0e5f6...</td>\n",
       "      <td>Helsinki</td>\n",
       "    </tr>\n",
       "    <tr>\n",
       "      <th>15004</th>\n",
       "      <td>1</td>\n",
       "      <td>11</td>\n",
       "      <td>female</td>\n",
       "      <td>35.0</td>\n",
       "      <td>1</td>\n",
       "      <td>0</td>\n",
       "      <td>106.2</td>\n",
       "      <td>abefcf257b5d2ff2816a68ec7c84ec8c11e0e0dc4f3425...</td>\n",
       "      <td>Helsinki</td>\n",
       "    </tr>\n",
       "    <tr>\n",
       "      <th>15005</th>\n",
       "      <td>0</td>\n",
       "      <td>13</td>\n",
       "      <td>male</td>\n",
       "      <td>35.0</td>\n",
       "      <td>0</td>\n",
       "      <td>0</td>\n",
       "      <td>16.1</td>\n",
       "      <td>9b2d5b4678781e53038e91ea5324530a03f27dc1d0e5f6...</td>\n",
       "      <td>Helsinki</td>\n",
       "    </tr>\n",
       "  </tbody>\n",
       "</table>\n",
       "</div>"
      ],
      "text/plain": [
       "            converted customer_segment  gender   age  related_customers  \\\n",
       "customer_id                                                               \n",
       "15001               0               13    male  22.0                  1   \n",
       "15002               1               11  female  38.0                  1   \n",
       "15003               1               13  female  26.0                  0   \n",
       "15004               1               11  female  35.0                  1   \n",
       "15005               0               13    male  35.0                  0   \n",
       "\n",
       "             family_size initial_fee_level  \\\n",
       "customer_id                                  \n",
       "15001                  0              14.5   \n",
       "15002                  0          142.5666   \n",
       "15003                  0             15.85   \n",
       "15004                  0             106.2   \n",
       "15005                  0              16.1   \n",
       "\n",
       "                                             credit_account_id    branch  \n",
       "customer_id                                                               \n",
       "15001        9b2d5b4678781e53038e91ea5324530a03f27dc1d0e5f6...  Helsinki  \n",
       "15002        afa2dc179e46e8456ffff9016f91396e9c6adf1fe20d17...   Tampere  \n",
       "15003        9b2d5b4678781e53038e91ea5324530a03f27dc1d0e5f6...  Helsinki  \n",
       "15004        abefcf257b5d2ff2816a68ec7c84ec8c11e0e0dc4f3425...  Helsinki  \n",
       "15005        9b2d5b4678781e53038e91ea5324530a03f27dc1d0e5f6...  Helsinki  "
      ]
     },
     "execution_count": 3,
     "metadata": {},
     "output_type": "execute_result"
    }
   ],
   "source": [
    "data = dataImportXlsx(\"Data.xlsx\",\"Ark1\")\n",
    "data.set_index(\"customer_id\", inplace = True)\n",
    "# change datatypes: \n",
    "data['age'] = pd.to_numeric(data['age'])\n",
    "data['related_customers'] = pd.to_numeric(data['related_customers'])\n",
    "data['family_size'] = pd.to_numeric(data['family_size'])\n",
    "# Age has to be a valid number: \n",
    "# I don't know anything about the data, so it does not make sense to enforce an age limit\n",
    "data = data[data['age']>0]\n",
    "n,m = data.shape\n",
    "print(\"The number of rows is:\", n)\n",
    "print(\"The number of cols is:\", m)\n",
    "data.head()\n"
   ]
  },
  {
   "cell_type": "markdown",
   "metadata": {},
   "source": [
    "### Inspektion af data\n",
    "Her kigges der på de forskellige variable for at se om, der er noget, der kan renses yderligere eller andre opmærksomhedspunkter, der kan påvirke modelvalget. "
   ]
  },
  {
   "cell_type": "markdown",
   "metadata": {},
   "source": [
    "Først undersøges det om der er stor ubalance i prædiktionsvariablen: "
   ]
  },
  {
   "cell_type": "code",
   "execution_count": 4,
   "metadata": {},
   "outputs": [
    {
     "name": "stdout",
     "output_type": "stream",
     "text": [
      "Percentage of converted in data is: 40.62 %\n"
     ]
    }
   ],
   "source": [
    "print(\"Percentage of converted in data is: {:.2f}\".format(data.converted.value_counts()[1]/n*100),\"%\")"
   ]
  },
  {
   "cell_type": "markdown",
   "metadata": {},
   "source": [
    "Det ser ikke ud til at være et stort problem, da de fleste modeller kan håndtere lidt ubalance. "
   ]
  },
  {
   "cell_type": "markdown",
   "metadata": {},
   "source": [
    "#### Alder:\n",
    "Alderen for hvert køn vises i et histogram. Overtal af yngre med få gamle. "
   ]
  },
  {
   "cell_type": "code",
   "execution_count": 5,
   "metadata": {},
   "outputs": [
    {
     "data": {
      "image/png": "[encoded data removed]",
      "text/plain": [
       "<Figure size 1800x360 with 1 Axes>"
      ]
     },
     "metadata": {
      "needs_background": "light"
     },
     "output_type": "display_data"
    }
   ],
   "source": [
    "plt.figure(figsize=(25,5))\n",
    "sns.histplot(data, x = \"age\",hue=\"gender\",multiple='dodge',palette=sns.color_palette(Gendercolors))\n",
    "plt.title(\"Age distribution\")\n",
    "plt.xlabel(\"Age\")\n",
    "plt.ylabel(\"Count\")\n",
    "plt.show()"
   ]
  },
  {
   "cell_type": "markdown",
   "metadata": {},
   "source": [
    "#### Credit account ID's \n",
    "Fra opgave er der givet en hash, der betyder NaN:"
   ]
  },
  {
   "cell_type": "code",
   "execution_count": 6,
   "metadata": {},
   "outputs": [
    {
     "data": {
      "text/html": [
       "<div>\n",
       "<style scoped>\n",
       "    .dataframe tbody tr th:only-of-type {\n",
       "        vertical-align: middle;\n",
       "    }\n",
       "\n",
       "    .dataframe tbody tr th {\n",
       "        vertical-align: top;\n",
       "    }\n",
       "\n",
       "    .dataframe thead th {\n",
       "        text-align: right;\n",
       "    }\n",
       "</style>\n",
       "<table border=\"1\" class=\"dataframe\">\n",
       "  <thead>\n",
       "    <tr style=\"text-align: right;\">\n",
       "      <th></th>\n",
       "      <th>converted</th>\n",
       "      <th>customer_segment</th>\n",
       "      <th>gender</th>\n",
       "      <th>age</th>\n",
       "      <th>related_customers</th>\n",
       "      <th>family_size</th>\n",
       "      <th>initial_fee_level</th>\n",
       "      <th>credit_account_id</th>\n",
       "      <th>branch</th>\n",
       "    </tr>\n",
       "    <tr>\n",
       "      <th>customer_id</th>\n",
       "      <th></th>\n",
       "      <th></th>\n",
       "      <th></th>\n",
       "      <th></th>\n",
       "      <th></th>\n",
       "      <th></th>\n",
       "      <th></th>\n",
       "      <th></th>\n",
       "      <th></th>\n",
       "    </tr>\n",
       "  </thead>\n",
       "  <tbody>\n",
       "    <tr>\n",
       "      <th>15001</th>\n",
       "      <td>0</td>\n",
       "      <td>13</td>\n",
       "      <td>male</td>\n",
       "      <td>22.0</td>\n",
       "      <td>1</td>\n",
       "      <td>0</td>\n",
       "      <td>14.5</td>\n",
       "      <td>9b2d5b4678781e53038e91ea5324530a03f27dc1d0e5f6...</td>\n",
       "      <td>Helsinki</td>\n",
       "    </tr>\n",
       "    <tr>\n",
       "      <th>15003</th>\n",
       "      <td>1</td>\n",
       "      <td>13</td>\n",
       "      <td>female</td>\n",
       "      <td>26.0</td>\n",
       "      <td>0</td>\n",
       "      <td>0</td>\n",
       "      <td>15.85</td>\n",
       "      <td>9b2d5b4678781e53038e91ea5324530a03f27dc1d0e5f6...</td>\n",
       "      <td>Helsinki</td>\n",
       "    </tr>\n",
       "    <tr>\n",
       "      <th>15005</th>\n",
       "      <td>0</td>\n",
       "      <td>13</td>\n",
       "      <td>male</td>\n",
       "      <td>35.0</td>\n",
       "      <td>0</td>\n",
       "      <td>0</td>\n",
       "      <td>16.1</td>\n",
       "      <td>9b2d5b4678781e53038e91ea5324530a03f27dc1d0e5f6...</td>\n",
       "      <td>Helsinki</td>\n",
       "    </tr>\n",
       "    <tr>\n",
       "      <th>15008</th>\n",
       "      <td>0</td>\n",
       "      <td>13</td>\n",
       "      <td>male</td>\n",
       "      <td>2.0</td>\n",
       "      <td>3</td>\n",
       "      <td>1</td>\n",
       "      <td>42.15</td>\n",
       "      <td>9b2d5b4678781e53038e91ea5324530a03f27dc1d0e5f6...</td>\n",
       "      <td>Helsinki</td>\n",
       "    </tr>\n",
       "    <tr>\n",
       "      <th>15009</th>\n",
       "      <td>1</td>\n",
       "      <td>13</td>\n",
       "      <td>female</td>\n",
       "      <td>27.0</td>\n",
       "      <td>0</td>\n",
       "      <td>2</td>\n",
       "      <td>22.2666</td>\n",
       "      <td>9b2d5b4678781e53038e91ea5324530a03f27dc1d0e5f6...</td>\n",
       "      <td>Helsinki</td>\n",
       "    </tr>\n",
       "  </tbody>\n",
       "</table>\n",
       "</div>"
      ],
      "text/plain": [
       "            converted customer_segment  gender   age  related_customers  \\\n",
       "customer_id                                                               \n",
       "15001               0               13    male  22.0                  1   \n",
       "15003               1               13  female  26.0                  0   \n",
       "15005               0               13    male  35.0                  0   \n",
       "15008               0               13    male   2.0                  3   \n",
       "15009               1               13  female  27.0                  0   \n",
       "\n",
       "             family_size initial_fee_level  \\\n",
       "customer_id                                  \n",
       "15001                  0              14.5   \n",
       "15003                  0             15.85   \n",
       "15005                  0              16.1   \n",
       "15008                  1             42.15   \n",
       "15009                  2           22.2666   \n",
       "\n",
       "                                             credit_account_id    branch  \n",
       "customer_id                                                               \n",
       "15001        9b2d5b4678781e53038e91ea5324530a03f27dc1d0e5f6...  Helsinki  \n",
       "15003        9b2d5b4678781e53038e91ea5324530a03f27dc1d0e5f6...  Helsinki  \n",
       "15005        9b2d5b4678781e53038e91ea5324530a03f27dc1d0e5f6...  Helsinki  \n",
       "15008        9b2d5b4678781e53038e91ea5324530a03f27dc1d0e5f6...  Helsinki  \n",
       "15009        9b2d5b4678781e53038e91ea5324530a03f27dc1d0e5f6...  Helsinki  "
      ]
     },
     "execution_count": 6,
     "metadata": {},
     "output_type": "execute_result"
    }
   ],
   "source": [
    "Nan = \"9b2d5b4678781e53038e91ea5324530a03f27dc1d0e5f6c9bc9d493a23be9de0\"\n",
    "data[data[\"credit_account_id\"] ==Nan].head()"
   ]
  },
  {
   "cell_type": "code",
   "execution_count": 7,
   "metadata": {},
   "outputs": [
    {
     "data": {
      "text/plain": [
       "(529, 9)"
      ]
     },
     "execution_count": 7,
     "metadata": {},
     "output_type": "execute_result"
    }
   ],
   "source": [
    "data[data[\"credit_account_id\"] ==Nan].shape"
   ]
  },
  {
   "cell_type": "markdown",
   "metadata": {},
   "source": [
    "Langt de fleste har ikke et credit_account_id, og det er heller ikke unikt? Ville give mening, hvis man inden for en familie kunne dele credit account."
   ]
  },
  {
   "cell_type": "code",
   "execution_count": 8,
   "metadata": {},
   "outputs": [
    {
     "data": {
      "text/plain": [
       "9b2d5b4678781e53038e91ea5324530a03f27dc1d0e5f6c9bc9d493a23be9de0    529\n",
       "f0d3a2a5176986eddfdd60b0b303d8fd7c4dfe3060479feee41224ef86f7174a      4\n",
       "cec0a7de7f8d6fc385250a76e38555a1f45fd5aaeb1a2ba3dbdf90a049bb0681      4\n",
       "780d558be6960a54064f888577409d1c92eb7c3d6c65e6bf4f286a3e26dde543      4\n",
       "8e2de3335023201ffa4d803767bdf12790c58f4f241554c544bde8bf7b8455a4      3\n",
       "                                                                   ... \n",
       "6ab09b834603a8cb76aadd2417233a4b05e9328f21fdde6e1b95340e0eb38409      1\n",
       "3241a3009222adcfd375825dcd95bd9c5c17a5e37e76cc04c121faa2f2fe569e      1\n",
       "fb44388faf2a4c02c6e64ada837ee39b2af11e805c12a9f25390281d3b65c87c      1\n",
       "85819be79f31aeb746251daac765c03d826025b366df8e777edf28812d948f72      1\n",
       "a2b612f45840d6f27b1a73ddae7f50e0bd9c4935903de602fdbc2da6d62e06a8      1\n",
       "Name: credit_account_id, Length: 135, dtype: int64"
      ]
     },
     "execution_count": 8,
     "metadata": {},
     "output_type": "execute_result"
    }
   ],
   "source": [
    "data.credit_account_id.value_counts()"
   ]
  },
  {
   "cell_type": "markdown",
   "metadata": {},
   "source": [
    "Nu kigges der nærmere på et credit_account_id, for at se om der er noget, der tyder på at de er i familie?"
   ]
  },
  {
   "cell_type": "code",
   "execution_count": 9,
   "metadata": {},
   "outputs": [
    {
     "data": {
      "text/html": [
       "<div>\n",
       "<style scoped>\n",
       "    .dataframe tbody tr th:only-of-type {\n",
       "        vertical-align: middle;\n",
       "    }\n",
       "\n",
       "    .dataframe tbody tr th {\n",
       "        vertical-align: top;\n",
       "    }\n",
       "\n",
       "    .dataframe thead th {\n",
       "        text-align: right;\n",
       "    }\n",
       "</style>\n",
       "<table border=\"1\" class=\"dataframe\">\n",
       "  <thead>\n",
       "    <tr style=\"text-align: right;\">\n",
       "      <th></th>\n",
       "      <th>converted</th>\n",
       "      <th>customer_segment</th>\n",
       "      <th>gender</th>\n",
       "      <th>age</th>\n",
       "      <th>related_customers</th>\n",
       "      <th>family_size</th>\n",
       "      <th>initial_fee_level</th>\n",
       "      <th>credit_account_id</th>\n",
       "      <th>branch</th>\n",
       "    </tr>\n",
       "    <tr>\n",
       "      <th>customer_id</th>\n",
       "      <th></th>\n",
       "      <th></th>\n",
       "      <th></th>\n",
       "      <th></th>\n",
       "      <th></th>\n",
       "      <th></th>\n",
       "      <th></th>\n",
       "      <th></th>\n",
       "      <th></th>\n",
       "    </tr>\n",
       "  </thead>\n",
       "  <tbody>\n",
       "    <tr>\n",
       "      <th>15028</th>\n",
       "      <td>0</td>\n",
       "      <td>11</td>\n",
       "      <td>male</td>\n",
       "      <td>19.0</td>\n",
       "      <td>3</td>\n",
       "      <td>2</td>\n",
       "      <td>526.0</td>\n",
       "      <td>f0d3a2a5176986eddfdd60b0b303d8fd7c4dfe3060479f...</td>\n",
       "      <td>Helsinki</td>\n",
       "    </tr>\n",
       "    <tr>\n",
       "      <th>15089</th>\n",
       "      <td>1</td>\n",
       "      <td>11</td>\n",
       "      <td>female</td>\n",
       "      <td>23.0</td>\n",
       "      <td>3</td>\n",
       "      <td>2</td>\n",
       "      <td>526.0</td>\n",
       "      <td>f0d3a2a5176986eddfdd60b0b303d8fd7c4dfe3060479f...</td>\n",
       "      <td>Helsinki</td>\n",
       "    </tr>\n",
       "    <tr>\n",
       "      <th>15342</th>\n",
       "      <td>1</td>\n",
       "      <td>11</td>\n",
       "      <td>female</td>\n",
       "      <td>24.0</td>\n",
       "      <td>3</td>\n",
       "      <td>2</td>\n",
       "      <td>526.0</td>\n",
       "      <td>f0d3a2a5176986eddfdd60b0b303d8fd7c4dfe3060479f...</td>\n",
       "      <td>Helsinki</td>\n",
       "    </tr>\n",
       "    <tr>\n",
       "      <th>15439</th>\n",
       "      <td>0</td>\n",
       "      <td>11</td>\n",
       "      <td>male</td>\n",
       "      <td>64.0</td>\n",
       "      <td>1</td>\n",
       "      <td>4</td>\n",
       "      <td>526.0</td>\n",
       "      <td>f0d3a2a5176986eddfdd60b0b303d8fd7c4dfe3060479f...</td>\n",
       "      <td>Helsinki</td>\n",
       "    </tr>\n",
       "  </tbody>\n",
       "</table>\n",
       "</div>"
      ],
      "text/plain": [
       "            converted customer_segment  gender   age  related_customers  \\\n",
       "customer_id                                                               \n",
       "15028               0               11    male  19.0                  3   \n",
       "15089               1               11  female  23.0                  3   \n",
       "15342               1               11  female  24.0                  3   \n",
       "15439               0               11    male  64.0                  1   \n",
       "\n",
       "             family_size initial_fee_level  \\\n",
       "customer_id                                  \n",
       "15028                  2             526.0   \n",
       "15089                  2             526.0   \n",
       "15342                  2             526.0   \n",
       "15439                  4             526.0   \n",
       "\n",
       "                                             credit_account_id    branch  \n",
       "customer_id                                                               \n",
       "15028        f0d3a2a5176986eddfdd60b0b303d8fd7c4dfe3060479f...  Helsinki  \n",
       "15089        f0d3a2a5176986eddfdd60b0b303d8fd7c4dfe3060479f...  Helsinki  \n",
       "15342        f0d3a2a5176986eddfdd60b0b303d8fd7c4dfe3060479f...  Helsinki  \n",
       "15439        f0d3a2a5176986eddfdd60b0b303d8fd7c4dfe3060479f...  Helsinki  "
      ]
     },
     "execution_count": 9,
     "metadata": {},
     "output_type": "execute_result"
    }
   ],
   "source": [
    "data[data['credit_account_id']=='f0d3a2a5176986eddfdd60b0b303d8fd7c4dfe3060479feee41224ef86f7174a']"
   ]
  },
  {
   "cell_type": "markdown",
   "metadata": {},
   "source": [
    "Den ældre mand har en family size på 4, men det er der ikke nogen af de andre, der har... De 3 yngre har 3 ´related_customers´. Kunne måske være noget med hvordan man angiver det, men det ville kræve mere analyse at sige noget mere om det og selv hvis man kan gælder det kun for en lille del af dataen og ville derfor ikke rigtig kunne bruges.\n",
    "\n",
    "For nu laves der en binær variabel om man har en account eller ej. "
   ]
  },
  {
   "cell_type": "code",
   "execution_count": 10,
   "metadata": {},
   "outputs": [],
   "source": [
    "data[\"hasAccount\"]= data['credit_account_id'].map(lambda x: x ==Nan)"
   ]
  },
  {
   "cell_type": "code",
   "execution_count": 11,
   "metadata": {},
   "outputs": [
    {
     "data": {
      "text/plain": [
       "True     529\n",
       "False    185\n",
       "Name: hasAccount, dtype: int64"
      ]
     },
     "execution_count": 11,
     "metadata": {},
     "output_type": "execute_result"
    }
   ],
   "source": [
    "data[\"hasAccount\"].value_counts()"
   ]
  },
  {
   "cell_type": "markdown",
   "metadata": {},
   "source": [
    "Den gamle kolonne droppes, da den er stærkt korreleret med med den nye. "
   ]
  },
  {
   "cell_type": "code",
   "execution_count": 12,
   "metadata": {},
   "outputs": [],
   "source": [
    "data.drop(\"credit_account_id\", axis = 1, inplace = True)"
   ]
  },
  {
   "cell_type": "markdown",
   "metadata": {},
   "source": [
    "#### Køn\n",
    "Køn bliver ændret til binær: "
   ]
  },
  {
   "cell_type": "code",
   "execution_count": 13,
   "metadata": {},
   "outputs": [],
   "source": [
    "data['gender'] = (data['gender'] == 'male').astype(int) ## male = 1, female = 0 "
   ]
  },
  {
   "cell_type": "markdown",
   "metadata": {},
   "source": [
    "#### Branch\n",
    "Nu inspiseres branch:"
   ]
  },
  {
   "cell_type": "code",
   "execution_count": 14,
   "metadata": {},
   "outputs": [
    {
     "data": {
      "text/plain": [
       "Helsinki    554\n",
       "Tampere     130\n",
       "Turku        28\n",
       "              2\n",
       "Name: branch, dtype: int64"
      ]
     },
     "execution_count": 14,
     "metadata": {},
     "output_type": "execute_result"
    }
   ],
   "source": [
    "data.branch.value_counts()"
   ]
  },
  {
   "cell_type": "code",
   "execution_count": 15,
   "metadata": {},
   "outputs": [],
   "source": [
    "# Remove empty variables: \n",
    "data = data[data['branch']!='']"
   ]
  },
  {
   "cell_type": "code",
   "execution_count": 16,
   "metadata": {},
   "outputs": [],
   "source": [
    "# One hot encode string variable: \n",
    "data = pd.get_dummies(data, prefix = \"branch\", columns=[\"branch\"])"
   ]
  },
  {
   "cell_type": "markdown",
   "metadata": {},
   "source": [
    "#### Related customers og family size:\n",
    "\n",
    "Det er nærliggende at tro, at de to variable måske er correleret. Dette undersøges derfor nærmere: "
   ]
  },
  {
   "cell_type": "code",
   "execution_count": 17,
   "metadata": {},
   "outputs": [
    {
     "data": {
      "text/plain": [
       "0    469\n",
       "1    183\n",
       "2     25\n",
       "4     18\n",
       "3     12\n",
       "5      5\n",
       "Name: related_customers, dtype: int64"
      ]
     },
     "execution_count": 17,
     "metadata": {},
     "output_type": "execute_result"
    }
   ],
   "source": [
    "data.related_customers.value_counts()"
   ]
  },
  {
   "cell_type": "code",
   "execution_count": 18,
   "metadata": {},
   "outputs": [
    {
     "data": {
      "text/plain": [
       "0    519\n",
       "1    110\n",
       "2     68\n",
       "5      5\n",
       "3      5\n",
       "4      4\n",
       "6      1\n",
       "Name: family_size, dtype: int64"
      ]
     },
     "execution_count": 18,
     "metadata": {},
     "output_type": "execute_result"
    }
   ],
   "source": [
    "data.family_size.value_counts()"
   ]
  },
  {
   "cell_type": "code",
   "execution_count": 19,
   "metadata": {},
   "outputs": [
    {
     "name": "stdout",
     "output_type": "stream",
     "text": [
      "related_customers: mean=0.514 stdv=0.930\n",
      "family_size: mean=0.433 stdv=0.854\n",
      "Correlation between related_customers and family_size: 0.383\n"
     ]
    }
   ],
   "source": [
    "print('related_customers: mean=%.3f stdv=%.3f' % (np.mean(data.related_customers), np.std(data.related_customers)))\n",
    "print('family_size: mean=%.3f stdv=%.3f' % (np.mean(data.family_size), np.std(data.family_size)))\n",
    "\n",
    "covariance = np.corrcoef(data.related_customers, data.family_size)\n",
    "print('Correlation between related_customers and family_size: %.3f' % covariance[0,1])\n"
   ]
  },
  {
   "cell_type": "markdown",
   "metadata": {},
   "source": [
    "De to variable er lidt korrelerede, men ikke noget, der burde have indflydelse på analysen... Der bliver derfor ikke gjort noget mere ud af de to variable. "
   ]
  },
  {
   "cell_type": "markdown",
   "metadata": {},
   "source": [
    "Til slut undersøges korrelationen, for at se om hvordan de forskellige variable er korrelerede med hinanden: "
   ]
  },
  {
   "cell_type": "code",
   "execution_count": 20,
   "metadata": {},
   "outputs": [
    {
     "data": {
      "image/png": "[encoded data removed]",
      "text/plain": [
       "<Figure size 720x720 with 2 Axes>"
      ]
     },
     "metadata": {
      "needs_background": "light"
     },
     "output_type": "display_data"
    }
   ],
   "source": [
    "plt.figure(figsize=(10,10))\n",
    "sns.heatmap(data.corr(), annot=True, cmap=\"YlGnBu\")\n",
    "plt.title(\"Correlation between variables\")\n",
    "plt.show()"
   ]
  },
  {
   "cell_type": "markdown",
   "metadata": {},
   "source": [
    "## Nu til analysedelen: \n",
    "Dataen splittes:"
   ]
  },
  {
   "cell_type": "code",
   "execution_count": 21,
   "metadata": {},
   "outputs": [],
   "source": [
    "y = data.converted\n",
    "X = data.drop(\"converted\", axis = 1)"
   ]
  },
  {
   "cell_type": "markdown",
   "metadata": {},
   "source": [
    "Modellen opstilles. Her anvendes en random forrest classifier, da denne er rimelig robust og kan håndtere en lille smule class imbalance. \n",
    "\n",
    "Der laves en 5-fold CV, for at modvirke overfitting. Hyperparametrene testes i en gridsearch for at finde de optimale. "
   ]
  },
  {
   "cell_type": "code",
   "execution_count": 22,
   "metadata": {},
   "outputs": [
    {
     "name": "stdout",
     "output_type": "stream",
     "text": [
      "Fitting 5 folds for each of 152 candidates, totalling 760 fits\n",
      "CV split: 0, Acc: 0.8181818181818182\n",
      "Fitting 5 folds for each of 152 candidates, totalling 760 fits\n",
      "CV split: 1, Acc: 0.7902097902097902\n",
      "Fitting 5 folds for each of 152 candidates, totalling 760 fits\n",
      "CV split: 2, Acc: 0.7746478873239436\n",
      "Fitting 5 folds for each of 152 candidates, totalling 760 fits\n",
      "CV split: 3, Acc: 0.795774647887324\n",
      "Fitting 5 folds for each of 152 candidates, totalling 760 fits\n",
      "CV split: 4, Acc: 0.8450704225352113\n"
     ]
    }
   ],
   "source": [
    "K = 5\n",
    "\n",
    "kf = StratifiedKFold(n_splits=K, shuffle=True, random_state=112)\n",
    "\n",
    "y_true =[]\n",
    "y_pred = []\n",
    "\n",
    "n_estimators = np.arange(50,200,4)\n",
    "max_depth = range(1,5)\n",
    "\n",
    "accuracies = np.zeros(K)\n",
    "chosen_parameters = np.zeros((2,K))\n",
    "\n",
    "for i, (train_index, test_index) in enumerate(kf.split(X,y)):\n",
    "\n",
    "    X_train, X_test = X.iloc[train_index,], X.iloc[test_index,]\n",
    "    y_train, y_test = y[train_index], y[test_index]\n",
    "    X_train = X_train.reset_index(drop=True)\n",
    "    X_test = X_test.reset_index(drop=True)\n",
    "    y_train = y_train.reset_index(drop=True)\n",
    "    y_test = y_test.reset_index(drop=True)\n",
    "\n",
    "    # define classifier model\n",
    "    clf = RandomForestClassifier(bootstrap=True, oob_score=True, criterion='gini', random_state=0, warm_start=True)\n",
    "    \n",
    "    # define parameters for grid search \n",
    "    param_grid = dict(max_depth=max_depth, n_estimators=n_estimators)\n",
    "\n",
    "    # perform grid search\n",
    "    grid = GridSearchCV(estimator=clf, param_grid=param_grid, cv=5, n_jobs=-1, verbose=2)\n",
    "    grid.fit(X_train, y_train)\n",
    "\n",
    "    accuracies[i] = grid.score(X_test, y_test)\n",
    "\n",
    "    y_true += list(y_test)\n",
    "    y_pred += list(grid.predict(X_test))\n",
    "\n",
    "    chosen_parameters[0,i] = grid.best_params_['max_depth']\n",
    "    chosen_parameters[1,i] = grid.best_params_['n_estimators']\n",
    "\n",
    "    print(('CV split: {}, Acc: {}').format(i, accuracies[i]))\n"
   ]
  },
  {
   "cell_type": "code",
   "execution_count": 23,
   "metadata": {},
   "outputs": [
    {
     "name": "stdout",
     "output_type": "stream",
     "text": [
      "Best parameters. (1) max_depth = 4, (2) n_estimators = 50\n"
     ]
    }
   ],
   "source": [
    "max_accuracy_idx = np.argmax(accuracies)\n",
    "best_max_depth = int(chosen_parameters[0][max_accuracy_idx])\n",
    "best_n_estimators = int(chosen_parameters[1][max_accuracy_idx])\n",
    "\n",
    "print('Best parameters. (1) max_depth = {}, (2) n_estimators = {}'.format(best_max_depth, best_n_estimators))"
   ]
  },
  {
   "cell_type": "code",
   "execution_count": 24,
   "metadata": {},
   "outputs": [
    {
     "name": "stdout",
     "output_type": "stream",
     "text": [
      "Expected Accuracy 0.78 \n"
     ]
    }
   ],
   "source": [
    "indeces = np.arange(X.shape[0])\n",
    "\n",
    "model_assessment_accuracies = np.zeros(K)\n",
    "\n",
    "targets = []\n",
    "predicitons = []\n",
    "\n",
    "for i in range(K):\n",
    "\n",
    "  # select indecies for bootstraping\n",
    "  boot_indeces = resample(indeces, replace=True, n_samples=X.shape[0], random_state=1)\n",
    "\n",
    "  # out of bag indeces\n",
    "  oob_indeces = [i for i in indeces if i not in boot_indeces]\n",
    "\n",
    "  X_train, y_train = X.iloc[boot_indeces], y.iloc[boot_indeces]\n",
    "  X_test, y_test = X.iloc[oob_indeces], y.iloc[oob_indeces]\n",
    "\n",
    "\n",
    "  # define classifier model using best learned parameters\n",
    "  clf = RandomForestClassifier(n_estimators=best_n_estimators, max_depth=best_max_depth, oob_score=True, criterion='gini', random_state=0, class_weight='balanced')\n",
    "  clf.fit(X_train, y_train)\n",
    "\n",
    "  y_pred = clf.predict(X_test)\n",
    "\n",
    "  model_assessment_accuracies[i] = accuracy_score(y_test, y_pred)\n",
    "\n",
    "  targets += list(y_test)\n",
    "  predicitons += list(y_pred)\n",
    "\n",
    "print('Expected Accuracy {:.2f} '.format(np.mean(model_assessment_accuracies)))"
   ]
  },
  {
   "cell_type": "markdown",
   "metadata": {},
   "source": [
    "Den indbyggede funktion feature importance bruges til at finde ud af hvilke features, der er mest relevante for at prædiktere: "
   ]
  },
  {
   "cell_type": "code",
   "execution_count": 25,
   "metadata": {},
   "outputs": [
    {
     "name": "stdout",
     "output_type": "stream",
     "text": [
      "Feature: 0, Score: 0.14111\n",
      "Feature: 1, Score: 0.40396\n",
      "Feature: 2, Score: 0.11075\n",
      "Feature: 3, Score: 0.04794\n",
      "Feature: 4, Score: 0.02088\n",
      "Feature: 5, Score: 0.13008\n",
      "Feature: 6, Score: 0.10782\n",
      "Feature: 7, Score: 0.00692\n",
      "Feature: 8, Score: 0.01944\n",
      "Feature: 9, Score: 0.01110\n"
     ]
    },
    {
     "data": {
      "image/png": "[encoded data removed]",
      "text/plain": [
       "<Figure size 720x360 with 1 Axes>"
      ]
     },
     "metadata": {
      "needs_background": "light"
     },
     "output_type": "display_data"
    }
   ],
   "source": [
    "importance = clf.feature_importances_\n",
    "# summarize feature importance\n",
    "for i,v in enumerate(importance):\n",
    "\tprint('Feature: %0d, Score: %.5f' % (i,v))\n",
    "# plot feature importance\n",
    "plt.figure(figsize=(10,5))\n",
    "plt.bar([x for x in range(len(importance))], importance)\n",
    "plt.title('Feature Importance')\n",
    "plt.xticks(range(len(importance)), X.columns,rotation=60)\n",
    "plt.ylabel('Importance')\n",
    "plt.xlabel('Feature')\n",
    "plt.show()"
   ]
  },
  {
   "cell_type": "markdown",
   "metadata": {},
   "source": [
    "Da feature importance er følsom over for variable med high cardinality (many unique values) testes det også med permutation importance: "
   ]
  },
  {
   "cell_type": "code",
   "execution_count": 26,
   "metadata": {},
   "outputs": [],
   "source": [
    "result = permutation_importance(clf, X_train, y_train, n_repeats=10,\n",
    "                                random_state=42)"
   ]
  },
  {
   "cell_type": "code",
   "execution_count": 27,
   "metadata": {},
   "outputs": [
    {
     "data": {
      "image/png": "[encoded data removed]",
      "text/plain": [
       "<Figure size 720x360 with 1 Axes>"
      ]
     },
     "metadata": {
      "needs_background": "light"
     },
     "output_type": "display_data"
    }
   ],
   "source": [
    "# plot feature importance\n",
    "plt.figure(figsize=(10,5))\n",
    "plt.errorbar(range(len(result.importances_std)), result.importances_mean, result.importances_std, linestyle='None', marker='^')\n",
    "plt.title('Feature Importance')\n",
    "plt.xticks(range(len(importance)), X.columns,rotation=60)\n",
    "plt.ylabel('Importance')\n",
    "plt.xlabel('Feature')\n",
    "plt.show()"
   ]
  },
  {
   "cell_type": "markdown",
   "metadata": {},
   "source": [
    "Det er helt tydeligt køn, der har en største betydning. For begge metoder har age også ret stor betydning. Der er uenighed om customer_segment, så det skal nok lige undersøges nærmere. Både initial fee og om de har en credit account eller ej, har også lidt betydning. "
   ]
  },
  {
   "cell_type": "markdown",
   "metadata": {},
   "source": [
    "#### Konklusion\n",
    "\n",
    "De mest betydende parametre for analysen er:\n",
    "-  Gender\n",
    "- Age\n",
    "\n",
    "og til en mindre grad\n",
    "\n",
    "- Initial fee\n",
    "- hasAccount\n",
    "- customer_segment"
   ]
  },
  {
   "cell_type": "markdown",
   "metadata": {},
   "source": []
  }
 ],
 "metadata": {
  "interpreter": {
   "hash": "594fab1fa862b5c9dd4bd5ec7b9b40dca3ac6b78e128c3a233a6a6ad45dfc17b"
  },
  "kernelspec": {
   "display_name": "Python 3.10.4 ('.venv': venv)",
   "language": "python",
   "name": "python3"
  },
  "language_info": {
   "codemirror_mode": {
    "name": "ipython",
    "version": 3
   },
   "file_extension": ".py",
   "mimetype": "text/x-python",
   "name": "python",
   "nbconvert_exporter": "python",
   "pygments_lexer": "ipython3",
   "version": "3.10.4"
  },
  "orig_nbformat": 4
 },
 "nbformat": 4,
 "nbformat_minor": 2
}
